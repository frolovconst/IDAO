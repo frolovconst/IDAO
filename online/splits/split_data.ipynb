{
 "cells": [
  {
   "cell_type": "code",
   "execution_count": 14,
   "metadata": {},
   "outputs": [],
   "source": [
    "import numpy as np\n",
    "import pandas as pd"
   ]
  },
  {
   "cell_type": "markdown",
   "metadata": {},
   "source": [
    "# Split data"
   ]
  },
  {
   "cell_type": "code",
   "execution_count": 15,
   "metadata": {},
   "outputs": [],
   "source": [
    "all_data = pd.read_csv('./competition_value_clean.csv').sort_values(['ATM_ID', 'DATE']).reset_index(drop=True)"
   ]
  },
  {
   "cell_type": "code",
   "execution_count": 16,
   "metadata": {},
   "outputs": [],
   "source": [
    "all_IDs = all_data.ATM_ID.unique()\n",
    "\n",
    "from sklearn.cross_validation import train_test_split\n",
    "train_IDs, test_IDs = train_test_split(all_IDs, test_size=100, random_state=442)\n",
    "\n",
    "test_public_IDs  = test_IDs[:50]\n",
    "test_private_IDs = test_IDs[50:]\n",
    "\n",
    "test_start_date = '2017-08-16'"
   ]
  },
  {
   "cell_type": "code",
   "execution_count": 17,
   "metadata": {},
   "outputs": [],
   "source": [
    "train = all_data.loc[all_data.ATM_ID.isin(train_IDs) & (all_data.DATE < test_start_date)]\n",
    "\n",
    "train_public  = all_data.loc[all_data.ATM_ID.isin(test_public_IDs)  & (all_data.DATE < test_start_date)]\n",
    "train_private = all_data.loc[all_data.ATM_ID.isin(test_private_IDs) & (all_data.DATE < test_start_date)]\n",
    "\n",
    "y_true_public  = all_data.loc[all_data.ATM_ID.isin(test_public_IDs)  & (all_data.DATE >= test_start_date)]\n",
    "y_true_private = all_data.loc[all_data.ATM_ID.isin(test_private_IDs) & (all_data.DATE >= test_start_date)]"
   ]
  },
  {
   "cell_type": "code",
   "execution_count": 18,
   "metadata": {},
   "outputs": [],
   "source": [
    "train.to_csv('./data/train.csv', index=False)\n",
    "\n",
    "train_public.to_csv('./data/train_public.csv', index=False)\n",
    "train_private.to_csv('./data/train_private.csv', index=False)\n",
    "\n",
    "y_true_public.to_csv('./data/y_true_public.csv', index=False)\n",
    "y_true_private.to_csv('./data/y_true_private.csv', index=False)"
   ]
  },
  {
   "cell_type": "code",
   "execution_count": null,
   "metadata": {},
   "outputs": [],
   "source": []
  }
 ],
 "metadata": {
  "kernelspec": {
   "display_name": "Python 3",
   "language": "python",
   "name": "python3"
  },
  "language_info": {
   "codemirror_mode": {
    "name": "ipython",
    "version": 3
   },
   "file_extension": ".py",
   "mimetype": "text/x-python",
   "name": "python",
   "nbconvert_exporter": "python",
   "pygments_lexer": "ipython3",
   "version": "3.6.1"
  }
 },
 "nbformat": 4,
 "nbformat_minor": 2
}
