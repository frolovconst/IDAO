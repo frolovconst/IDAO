{
 "cells": [
  {
   "cell_type": "code",
   "execution_count": 41,
   "metadata": {
    "collapsed": true
   },
   "outputs": [],
   "source": [
    "import pandas as pd\n",
    "import numpy as np\n",
    "import matplotlib.pyplot as plt\n",
    "from pathlib import Path\n",
    "\n",
    "dct = dict()\n",
    "path = 'train.csv.zip'\n",
    "dtypes = {'id1': np.int16, 'id2': np.int16, 'id3': np.int16, 'user_id': np.int32, 'date': np.int16}\n",
    "dt = pd.read_csv(path, dtype=dtypes)\n",
    "for uid in dt['user_id']:\n",
    "    if uid in dct:\n",
    "        dct[uid] += 1\n",
    "    else:\n",
    "        dct[uid] = 1\n",
    "\n",
    "user_visits = pd.DataFrame({'usr' : list(dct.keys()),\n",
    "                             'visits': list(dct.values())})\n",
    "\n",
    "bot_users = user_visits[(user_visits.visits>10) & (user_visits.visits<200)].usr[:5000]\n",
    "\n",
    "# good_indicies = np.array(dt[dt.user_id.isin(bot_users)].index)\n",
    "id3s = dt['id3'].unique()\n",
    "\n",
    "submission = pd.DataFrame(list(bot_users), columns = ['user_id'])\n",
    "\n",
    "submission.to_csv('submission.csv', index=False)"
   ]
  },
  {
   "cell_type": "code",
   "execution_count": 38,
   "metadata": {
    "collapsed": true
   },
   "outputs": [],
   "source": [
    "submission['id3_1'] = np.random.choice(id3s, 5000)\n",
    "submission['id3_2'] = np.random.choice(id3s, 5000)\n",
    "submission['id3_3'] = np.random.choice(id3s, 5000)\n",
    "submission['id3_4'] = np.random.choice(id3s, 5000)\n",
    "submission['id3_5'] = np.random.choice(id3s, 5000)"
   ]
  },
  {
   "cell_type": "code",
   "execution_count": null,
   "metadata": {
    "collapsed": true
   },
   "outputs": [],
   "source": []
  }
 ],
 "metadata": {
  "kernelspec": {
   "display_name": "Python 3",
   "language": "python",
   "name": "python3"
  },
  "language_info": {
   "codemirror_mode": {
    "name": "ipython",
    "version": 3
   },
   "file_extension": ".py",
   "mimetype": "text/x-python",
   "name": "python",
   "nbconvert_exporter": "python",
   "pygments_lexer": "ipython3",
   "version": "3.6.3"
  }
 },
 "nbformat": 4,
 "nbformat_minor": 2
}
