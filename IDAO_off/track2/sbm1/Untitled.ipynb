{
 "cells": [
  {
   "cell_type": "code",
   "execution_count": 40,
   "metadata": {
    "collapsed": true
   },
   "outputs": [],
   "source": [
    "import pandas as pd\n",
    "import numpy as np\n",
    "\n",
    "users = pd.read_csv('frq_users.csv', names=['uid'])\n",
    "id3s = np.loadtxt('unique_id3s.csv', dtype=np.int16)\n",
    "\n",
    "submission = pd.DataFrame(users.uid.unique()[:5000], columns = ['user_id'])\n",
    "\n",
    "submission['id3_1'] = np.random.choice(id3s, 5000)\n",
    "submission['id3_2'] = np.random.choice(id3s, 5000)\n",
    "submission['id3_3'] = np.random.choice(id3s, 5000)\n",
    "submission['id3_4'] = np.random.choice(id3s, 5000)\n",
    "submission['id3_5'] = np.random.choice(id3s, 5000)\n",
    "                       \n",
    "submission.to_csv('submission.csv', index=False)"
   ]
  },
  {
   "cell_type": "code",
   "execution_count": null,
   "metadata": {
    "collapsed": true
   },
   "outputs": [],
   "source": [
    "import pandas as pd\n",
    "import numpy as np\n",
    "\n",
    "train = pd.read_csv('train.csv.zip', nrows=5001)\n",
    "users = pd.read_csv('frq_users.csv', names=['uid'])\n",
    "id3s = np.loadtxt('unique_id3s.csv', dtype=np.int16)\n",
    "\n",
    "submission = pd.DataFrame(users.uid.unique()[:5000], columns = ['user_id'])\n",
    "\n",
    "# submission['id3_1'] = np.random.choice(id3s, 5000)\n",
    "# submission['id3_2'] = np.random.choice(id3s, 5000)\n",
    "# submission['id3_3'] = np.random.choice(id3s, 5000)\n",
    "# submission['id3_4'] = np.random.choice(id3s, 5000)\n",
    "# submission['id3_5'] = np.random.choice(id3s, 5000)\n",
    "\n",
    "submission['id3_1'] = id3s[np.random.randint(id3s.size)]\n",
    "submission['id3_2'] = id3s[np.random.randint(id3s.size)]\n",
    "submission['id3_3'] = id3s[np.random.randint(id3s.size)]\n",
    "submission['id3_4'] = id3s[np.random.randint(id3s.size)]\n",
    "submission['id3_5'] = id3s[np.random.randint(id3s.size)]\n",
    "                       \n",
    "submission.to_csv('submission.csv', index=False)"
   ]
  }
 ],
 "metadata": {
  "kernelspec": {
   "display_name": "Python 3",
   "language": "python",
   "name": "python3"
  },
  "language_info": {
   "codemirror_mode": {
    "name": "ipython",
    "version": 3
   },
   "file_extension": ".py",
   "mimetype": "text/x-python",
   "name": "python",
   "nbconvert_exporter": "python",
   "pygments_lexer": "ipython3",
   "version": "3.6.3"
  }
 },
 "nbformat": 4,
 "nbformat_minor": 2
}
